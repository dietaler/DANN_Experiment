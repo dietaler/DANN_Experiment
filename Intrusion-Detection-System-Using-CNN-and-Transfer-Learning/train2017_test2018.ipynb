{
 "cells": [
  {
   "cell_type": "code",
   "execution_count": 14,
   "metadata": {},
   "outputs": [
    {
     "data": {
      "text/plain": [
       "'2'"
      ]
     },
     "execution_count": 14,
     "metadata": {},
     "output_type": "execute_result"
    }
   ],
   "source": [
    "i=5\n",
    "str((i+1)//3)\n",
    "# i//3"
   ]
  },
  {
   "cell_type": "code",
   "execution_count": 1,
   "metadata": {},
   "outputs": [],
   "source": [
    "import torch\n",
    "import torch.nn as nn\n",
    "import torch.optim as optim\n",
    "from torch.utils.data import DataLoader\n",
    "from torchvision import datasets, transforms, models\n",
    "import time\n",
    "from tqdm import tqdm"
   ]
  },
  {
   "cell_type": "code",
   "execution_count": null,
   "metadata": {},
   "outputs": [
    {
     "name": "stdout",
     "output_type": "stream",
     "text": [
      "訓練集的類別數：6\n",
      "類別標籤對應：{'Benign': 0, 'Botnets': 1, 'Brute-force': 2, 'DoS': 3, 'Port-scan': 4, 'Web-attacks': 5}\n"
     ]
    }
   ],
   "source": [
    "# 定義圖像增強與標準化\n",
    "transform = {\n",
    "    'train': transforms.Compose([\n",
    "        transforms.ToTensor(),  # 轉為 Tensor\n",
    "    ]),\n",
    "    'val': transforms.Compose([\n",
    "        transforms.ToTensor(),\n",
    "    ])\n",
    "}\n",
    "\n",
    "# 資料集路徑\n",
    "train_data_dir = 'data/image/cicids2017/train_224/'\n",
    "val_data_dir = 'data/image/cicids2017/val_224/'\n",
    "# test_data_dir = 'data/image/cicids2018/train_224'\n",
    "batch_size = 128\n",
    "\n",
    "# 使用 ImageFolder 自動根據子資料夾讀取標籤\n",
    "train_dataset = datasets.ImageFolder(root=train_data_dir, transform=transform['train'])\n",
    "val_dataset = datasets.ImageFolder(root=val_data_dir, transform=transform['val'])\n",
    "# test_dataset = datasets.ImageFolder(root=test_data_dir, transform=transform['val'])\n",
    "\n",
    "# 建立 DataLoader\n",
    "train_loader = DataLoader(train_dataset, batch_size=batch_size, shuffle=True, num_workers=8, pin_memory=True)\n",
    "val_loader = DataLoader(val_dataset, batch_size=batch_size, shuffle=False, num_workers=8, pin_memory=True)\n",
    "# test_loader = DataLoader(test_dataset, batch_size=batch_size, shuffle=False, num_workers=8, pin_memory=True)\n",
    "\n",
    "# 檢查類別數量\n",
    "print(f\"訓練集的類別數：{len(train_dataset.classes)}\")\n",
    "print(f\"類別標籤對應：{train_dataset.class_to_idx}\")\n"
   ]
  },
  {
   "cell_type": "code",
   "execution_count": 3,
   "metadata": {},
   "outputs": [
    {
     "name": "stderr",
     "output_type": "stream",
     "text": [
      "/home/speedlab-ml-1/anaconda3/envs/dann/lib/python3.7/site-packages/torchvision/models/_utils.py:209: UserWarning: The parameter 'pretrained' is deprecated since 0.13 and will be removed in 0.15, please use 'weights' instead.\n",
      "  f\"The parameter '{pretrained_param}' is deprecated since 0.13 and will be removed in 0.15, \"\n",
      "/home/speedlab-ml-1/anaconda3/envs/dann/lib/python3.7/site-packages/torchvision/models/_utils.py:223: UserWarning: Arguments other than a weight enum or `None` for 'weights' are deprecated since 0.13 and will be removed in 0.15. The current behavior is equivalent to passing `weights=ResNet18_Weights.IMAGENET1K_V1`. You can also use `weights=ResNet18_Weights.DEFAULT` to get the most up-to-date weights.\n",
      "  warnings.warn(msg)\n"
     ]
    }
   ],
   "source": [
    "# 加載 ResNet 模型，使用預訓練權重\n",
    "model = models.resnet18(pretrained=True)\n",
    "\n",
    "# 替換最後一層全連接層\n",
    "num_ftrs = model.fc.in_features  # ResNet 最後一層的輸入特徵數量\n",
    "num_classes = len(train_dataset.classes)  # 六大類別\n",
    "model.fc = nn.Linear(num_ftrs, num_classes)  # 替換為我們的輸出層\n",
    "\n",
    "# 將模型移至 GPU（如果可用）\n",
    "device = torch.device('cuda' if torch.cuda.is_available() else 'cpu')\n",
    "model = model.to(device)\n",
    "\n",
    "# 定義損失函數（交叉熵損失）\n",
    "criterion = nn.CrossEntropyLoss()\n",
    "\n",
    "# 定義優化器（使用 Adam）\n",
    "optimizer = optim.Adam(model.parameters(), lr=0.001)\n",
    "\n",
    "# 學習率調整器\n",
    "scheduler = optim.lr_scheduler.StepLR(optimizer, step_size=7, gamma=0.1)\n"
   ]
  },
  {
   "cell_type": "code",
   "execution_count": 5,
   "metadata": {},
   "outputs": [
    {
     "name": "stdout",
     "output_type": "stream",
     "text": [
      "\n",
      "Epoch 1/10\n",
      "----------------------------------------\n"
     ]
    },
    {
     "name": "stderr",
     "output_type": "stream",
     "text": [
      "                                                                                          \r"
     ]
    },
    {
     "name": "stdout",
     "output_type": "stream",
     "text": [
      "Train Loss: 0.0704 Acc: 0.9774\n"
     ]
    },
    {
     "name": "stderr",
     "output_type": "stream",
     "text": [
      "                                                                                      \r"
     ]
    },
    {
     "name": "stdout",
     "output_type": "stream",
     "text": [
      "Val Loss: 0.0388 Acc: 0.9896\n",
      ">> Epoch 1: Validation accuracy improved to 0.9896, model saved to ./best_model.pth\n",
      "\n",
      "Epoch 2/10\n",
      "----------------------------------------\n"
     ]
    },
    {
     "name": "stderr",
     "output_type": "stream",
     "text": [
      "                                                                                          \r"
     ]
    },
    {
     "name": "stdout",
     "output_type": "stream",
     "text": [
      "Train Loss: 0.0201 Acc: 0.9934\n"
     ]
    },
    {
     "name": "stderr",
     "output_type": "stream",
     "text": [
      "                                                                                      \r"
     ]
    },
    {
     "name": "stdout",
     "output_type": "stream",
     "text": [
      "Val Loss: 0.1229 Acc: 0.9619\n",
      "\n",
      "Epoch 3/10\n",
      "----------------------------------------\n"
     ]
    },
    {
     "name": "stderr",
     "output_type": "stream",
     "text": [
      "                                                                                          \r"
     ]
    },
    {
     "name": "stdout",
     "output_type": "stream",
     "text": [
      "Train Loss: 0.0205 Acc: 0.9939\n"
     ]
    },
    {
     "name": "stderr",
     "output_type": "stream",
     "text": [
      "                                                                                      \r"
     ]
    },
    {
     "name": "stdout",
     "output_type": "stream",
     "text": [
      "Val Loss: 0.0510 Acc: 0.9857\n",
      "\n",
      "Epoch 4/10\n",
      "----------------------------------------\n"
     ]
    },
    {
     "name": "stderr",
     "output_type": "stream",
     "text": [
      "                                                                                          \r"
     ]
    },
    {
     "name": "stdout",
     "output_type": "stream",
     "text": [
      "Train Loss: 0.0085 Acc: 0.9972\n"
     ]
    },
    {
     "name": "stderr",
     "output_type": "stream",
     "text": [
      "                                                                                      \r"
     ]
    },
    {
     "name": "stdout",
     "output_type": "stream",
     "text": [
      "Val Loss: 0.0126 Acc: 0.9964\n",
      ">> Epoch 4: Validation accuracy improved to 0.9964, model saved to ./best_model.pth\n",
      "\n",
      "Epoch 5/10\n",
      "----------------------------------------\n"
     ]
    },
    {
     "name": "stderr",
     "output_type": "stream",
     "text": [
      "                                                                                          \r"
     ]
    },
    {
     "name": "stdout",
     "output_type": "stream",
     "text": [
      "Train Loss: 0.0071 Acc: 0.9977\n"
     ]
    },
    {
     "name": "stderr",
     "output_type": "stream",
     "text": [
      "                                                                                      \r"
     ]
    },
    {
     "name": "stdout",
     "output_type": "stream",
     "text": [
      "Val Loss: 0.2261 Acc: 0.9279\n",
      "\n",
      "Epoch 6/10\n",
      "----------------------------------------\n"
     ]
    },
    {
     "name": "stderr",
     "output_type": "stream",
     "text": [
      "                                                                                          \r"
     ]
    },
    {
     "name": "stdout",
     "output_type": "stream",
     "text": [
      "Train Loss: 0.0086 Acc: 0.9971\n"
     ]
    },
    {
     "name": "stderr",
     "output_type": "stream",
     "text": [
      "                                                                                      \r"
     ]
    },
    {
     "name": "stdout",
     "output_type": "stream",
     "text": [
      "Val Loss: 0.0143 Acc: 0.9962\n",
      "\n",
      "Epoch 7/10\n",
      "----------------------------------------\n"
     ]
    },
    {
     "name": "stderr",
     "output_type": "stream",
     "text": [
      "                                                                                          \r"
     ]
    },
    {
     "name": "stdout",
     "output_type": "stream",
     "text": [
      "Train Loss: 0.0022 Acc: 0.9997\n"
     ]
    },
    {
     "name": "stderr",
     "output_type": "stream",
     "text": [
      "                                                                                      \r"
     ]
    },
    {
     "name": "stdout",
     "output_type": "stream",
     "text": [
      "Val Loss: 0.0086 Acc: 0.9986\n",
      ">> Epoch 7: Validation accuracy improved to 0.9986, model saved to ./best_model.pth\n",
      "\n",
      "Epoch 8/10\n",
      "----------------------------------------\n"
     ]
    },
    {
     "name": "stderr",
     "output_type": "stream",
     "text": [
      "                                                                                          \r"
     ]
    },
    {
     "name": "stdout",
     "output_type": "stream",
     "text": [
      "Train Loss: 0.0014 Acc: 0.9999\n"
     ]
    },
    {
     "name": "stderr",
     "output_type": "stream",
     "text": [
      "                                                                                      \r"
     ]
    },
    {
     "name": "stdout",
     "output_type": "stream",
     "text": [
      "Val Loss: 0.0076 Acc: 0.9986\n",
      "\n",
      "Epoch 9/10\n",
      "----------------------------------------\n"
     ]
    },
    {
     "name": "stderr",
     "output_type": "stream",
     "text": [
      "                                                                                          \r"
     ]
    },
    {
     "name": "stdout",
     "output_type": "stream",
     "text": [
      "Train Loss: 0.0009 Acc: 0.9999\n"
     ]
    },
    {
     "name": "stderr",
     "output_type": "stream",
     "text": [
      "                                                                                      \r"
     ]
    },
    {
     "name": "stdout",
     "output_type": "stream",
     "text": [
      "Val Loss: 0.0071 Acc: 0.9986\n",
      "\n",
      "Epoch 10/10\n",
      "----------------------------------------\n"
     ]
    },
    {
     "name": "stderr",
     "output_type": "stream",
     "text": [
      "                                                                                          \r"
     ]
    },
    {
     "name": "stdout",
     "output_type": "stream",
     "text": [
      "Train Loss: 0.0009 Acc: 0.9999\n"
     ]
    },
    {
     "name": "stderr",
     "output_type": "stream",
     "text": [
      "                                                                                      \r"
     ]
    },
    {
     "name": "stdout",
     "output_type": "stream",
     "text": [
      "Val Loss: 0.0065 Acc: 0.9989\n",
      ">> Epoch 10: Validation accuracy improved to 0.9989, model saved to ./best_model.pth\n",
      "\n",
      "訓練完成，耗時 3 分鐘 8 秒\n",
      "最佳驗證準確率：0.9989\n"
     ]
    }
   ],
   "source": [
    "def train_model(model, criterion, optimizer, scheduler, num_epochs=10, save_path='./best_model.pth'):\n",
    "    since = time.time()\n",
    "    best_acc = 0.0  # 紀錄最佳準確率\n",
    "\n",
    "    for epoch in range(num_epochs):\n",
    "        print(f'\\nEpoch {epoch + 1}/{num_epochs}')\n",
    "        print('-' * 40)\n",
    "\n",
    "        # 訓練與驗證\n",
    "        for phase in ['train', 'val']:\n",
    "            if phase == 'train':\n",
    "                model.train()  # 訓練模式\n",
    "                dataloader = train_loader\n",
    "            else:\n",
    "                model.eval()  # 驗證模式\n",
    "                dataloader = val_loader\n",
    "\n",
    "            running_loss = 0.0\n",
    "            running_corrects = 0\n",
    "\n",
    "            # 使用 tqdm 顯示進度條\n",
    "            progress_bar = tqdm(dataloader, desc=f'{phase.capitalize()} Progress', leave=False)\n",
    "\n",
    "            for inputs, labels in progress_bar:\n",
    "                inputs, labels = inputs.to(device), labels.to(device)\n",
    "\n",
    "                optimizer.zero_grad()  # 清空梯度\n",
    "\n",
    "                with torch.set_grad_enabled(phase == 'train'):\n",
    "                    outputs = model(inputs)\n",
    "                    _, preds = torch.max(outputs, 1)\n",
    "                    loss = criterion(outputs, labels)\n",
    "\n",
    "                    if phase == 'train':\n",
    "                        loss.backward()  # 反向傳播\n",
    "                        optimizer.step()  # 更新權重\n",
    "\n",
    "                running_loss += loss.item() * inputs.size(0)\n",
    "                running_corrects += torch.sum(preds == labels.data)\n",
    "\n",
    "                # 更新進度條的描述\n",
    "                progress_bar.set_postfix(loss=f\"{running_loss / len(dataloader.dataset):.4f}\", acc=f\"{running_corrects.double() / len(dataloader.dataset):.4f}\")\n",
    "\n",
    "            epoch_loss = running_loss / len(dataloader.dataset)\n",
    "            epoch_acc = running_corrects.double() / len(dataloader.dataset)\n",
    "\n",
    "            print(f'{phase.capitalize()} Loss: {epoch_loss:.4f} Acc: {epoch_acc:.4f}')\n",
    "\n",
    "            # 學習率調整\n",
    "            if phase == 'train':\n",
    "                scheduler.step()\n",
    "\n",
    "            # 保存最佳模型\n",
    "            if phase == 'val' and epoch_acc > best_acc:\n",
    "                best_acc = epoch_acc\n",
    "                torch.save(model.state_dict(), save_path)\n",
    "                print(f'>> Epoch {epoch + 1}: Validation accuracy improved to {best_acc:.4f}, model saved to {save_path}')\n",
    "\n",
    "    time_elapsed = time.time() - since\n",
    "    print(f'\\n訓練完成，耗時 {time_elapsed // 60:.0f} 分鐘 {time_elapsed % 60:.0f} 秒')\n",
    "    print(f'最佳驗證準確率：{best_acc:.4f}')\n",
    "    return model\n",
    "\n",
    "# 開始訓練\n",
    "trained_model = train_model(model, criterion, optimizer, scheduler, num_epochs=3)\n",
    "# torch.save(trained_model.state_dict(), 'resnet_classifier.pth')\n",
    "# print(\"模型權重已保存\")"
   ]
  },
  {
   "cell_type": "code",
   "execution_count": 4,
   "metadata": {},
   "outputs": [
    {
     "ename": "NameError",
     "evalue": "name 'trained_model' is not defined",
     "output_type": "error",
     "traceback": [
      "\u001b[0;31m---------------------------------------------------------------------------\u001b[0m",
      "\u001b[0;31mNameError\u001b[0m                                 Traceback (most recent call last)",
      "\u001b[0;32m/tmp/ipykernel_1880623/1344748941.py\u001b[0m in \u001b[0;36m<module>\u001b[0;34m\u001b[0m\n\u001b[1;32m     16\u001b[0m \u001b[0;31m# 測試圖片\u001b[0m\u001b[0;34m\u001b[0m\u001b[0;34m\u001b[0m\u001b[0;34m\u001b[0m\u001b[0m\n\u001b[1;32m     17\u001b[0m \u001b[0mimage_path\u001b[0m \u001b[0;34m=\u001b[0m \u001b[0;34m'data/image/cicids2018/train_224/Web-attacks/2.png'\u001b[0m\u001b[0;34m\u001b[0m\u001b[0;34m\u001b[0m\u001b[0m\n\u001b[0;32m---> 18\u001b[0;31m \u001b[0mprediction\u001b[0m \u001b[0;34m=\u001b[0m \u001b[0mpredict_image\u001b[0m\u001b[0;34m(\u001b[0m\u001b[0mtrained_model\u001b[0m\u001b[0;34m,\u001b[0m \u001b[0mimage_path\u001b[0m\u001b[0;34m)\u001b[0m\u001b[0;34m\u001b[0m\u001b[0;34m\u001b[0m\u001b[0m\n\u001b[0m\u001b[1;32m     19\u001b[0m \u001b[0mprint\u001b[0m\u001b[0;34m(\u001b[0m\u001b[0;34mf'預測類別：{prediction}'\u001b[0m\u001b[0;34m)\u001b[0m\u001b[0;34m\u001b[0m\u001b[0;34m\u001b[0m\u001b[0m\n",
      "\u001b[0;31mNameError\u001b[0m: name 'trained_model' is not defined"
     ]
    }
   ],
   "source": [
    "from PIL import Image\n",
    "\n",
    "# 測試單張圖片\n",
    "def predict_image(model, image_path):\n",
    "    model.eval()\n",
    "    image = Image.open(image_path).convert('RGB')\n",
    "    image = transform['val'](image).unsqueeze(0)  # 加上 batch 維度\n",
    "    image = image.to(device)\n",
    "\n",
    "    with torch.no_grad():\n",
    "        outputs = model(image)\n",
    "        _, preds = torch.max(outputs, 1)\n",
    "\n",
    "    return train_dataset.classes[preds[0].item()]\n",
    "\n",
    "# 測試圖片\n",
    "image_path = 'data/image/cicids2018/train_224/Web-attacks/2.png'\n",
    "prediction = predict_image(trained_model, image_path)\n",
    "print(f'預測類別：{prediction}')"
   ]
  },
  {
   "cell_type": "code",
   "execution_count": 10,
   "metadata": {},
   "outputs": [
    {
     "name": "stdout",
     "output_type": "stream",
     "text": [
      "CICIDS2018 類別數量: 5\n",
      "CICIDS2017 類別對應: {'Benign': 0, 'Botnets': 1, 'Brute-force': 2, 'DoS': 3, 'Port-scan': 4, 'Web-attacks': 5}\n",
      "CICIDS2018 類別對應: {'Benign': 0, 'Botnets': 1, 'Brute-force': 2, 'DoS': 3, 'Web-attacks': 4}\n"
     ]
    }
   ],
   "source": [
    "# 確保 CICIDS2018 目錄正確\n",
    "cicids2018_data_dir = \"data/image/cicids2018/train_224\"\n",
    "\n",
    "# 讀取測試數據\n",
    "cicids2018_dataset = datasets.ImageFolder(root=cicids2018_data_dir, transform=transform['val'])\n",
    "cicids2018_loader = DataLoader(cicids2018_dataset, batch_size=32, shuffle=False, num_workers=4)\n",
    "\n",
    "# 檢查類別標籤對應\n",
    "print(f\"CICIDS2018 類別數量: {len(cicids2018_dataset.classes)}\")\n",
    "print(f\"CICIDS2017 類別對應: {train_dataset.class_to_idx}\")\n",
    "print(f\"CICIDS2018 類別對應: {cicids2018_dataset.class_to_idx}\")"
   ]
  },
  {
   "cell_type": "code",
   "execution_count": 11,
   "metadata": {},
   "outputs": [],
   "source": [
    "# 標籤對應表 (將 CICIDS2018 的標籤對應回 CICIDS2017)\n",
    "label_mapping = {\n",
    "    0: 0,  # Benign -> Benign\n",
    "    1: 1,  # Botnets -> Botnets\n",
    "    2: 2,  # Brute-force -> Brute-force\n",
    "    3: 3,  # DoS -> DoS\n",
    "    4: 5   # Web-attacks (CICIDS2018:4) -> Web-attacks (CICIDS2017:5)\n",
    "}"
   ]
  },
  {
   "cell_type": "code",
   "execution_count": 14,
   "metadata": {},
   "outputs": [
    {
     "name": "stderr",
     "output_type": "stream",
     "text": [
      "Evaluating: 100%|██████████| 5792/5792 [01:38<00:00, 58.65batch/s, acc=0.5310, batch=5792/5792, processed=185324/185324]\n"
     ]
    },
    {
     "name": "stdout",
     "output_type": "stream",
     "text": [
      "\n",
      "CICIDS2018 測試集準確率: 0.5310\n"
     ]
    }
   ],
   "source": [
    "from tqdm import tqdm\n",
    "\n",
    "def evaluate_model(model, dataloader, dataset, label_mapping):\n",
    "    model.eval()\n",
    "    correct = 0\n",
    "    total = 0\n",
    "\n",
    "    # 進度條初始化\n",
    "    pbar = tqdm(enumerate(dataloader), total=len(dataloader), desc=\"Evaluating\", unit=\"batch\", leave=True)\n",
    "\n",
    "    with torch.no_grad():\n",
    "        for batch_idx, (images, labels) in pbar:\n",
    "            batch_size = images.size(0)\n",
    "            images, labels = images.to(device), labels.to(device)\n",
    "            outputs = model(images)\n",
    "            _, preds = torch.max(outputs, 1)\n",
    "\n",
    "            # 轉換測試標籤至訓練標籤對應\n",
    "            mapped_labels = torch.tensor([label_mapping[label.item()] for label in labels], device=device)\n",
    "\n",
    "            # 計算正確率\n",
    "            correct += (preds == mapped_labels).sum().item()\n",
    "            total += labels.size(0)\n",
    "\n",
    "            # 更新進度條：顯示目前處理到第幾個 batch、圖片數、當前準確率\n",
    "            pbar.set_postfix(batch=f\"{batch_idx+1}/{len(dataloader)}\", processed=f\"{total}/{len(dataset)}\", acc=f\"{correct / total:.4f}\")\n",
    "\n",
    "    acc = correct / total\n",
    "    print(f\"\\nCICIDS2018 測試集準確率: {acc:.4f}\")\n",
    "\n",
    "# 執行測試\n",
    "evaluate_model(trained_model, cicids2018_loader, cicids2018_dataset, label_mapping)"
   ]
  }
 ],
 "metadata": {
  "kernelspec": {
   "display_name": "dann",
   "language": "python",
   "name": "python3"
  },
  "language_info": {
   "codemirror_mode": {
    "name": "ipython",
    "version": 3
   },
   "file_extension": ".py",
   "mimetype": "text/x-python",
   "name": "python",
   "nbconvert_exporter": "python",
   "pygments_lexer": "ipython3",
   "version": "3.7.16"
  }
 },
 "nbformat": 4,
 "nbformat_minor": 2
}
